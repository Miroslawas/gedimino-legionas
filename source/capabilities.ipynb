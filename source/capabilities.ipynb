{
 "cells": [
  {
   "cell_type": "code",
   "execution_count": 1,
   "metadata": {},
   "outputs": [],
   "source": [
    "from pymongo import MongoClient"
   ]
  },
  {
   "cell_type": "code",
   "execution_count": 2,
   "metadata": {},
   "outputs": [],
   "source": [
    "import pandas as pd"
   ]
  },
  {
   "cell_type": "code",
   "execution_count": 3,
   "metadata": {},
   "outputs": [],
   "source": [
    "%matplotlib inline"
   ]
  },
  {
   "cell_type": "code",
   "execution_count": 4,
   "metadata": {},
   "outputs": [],
   "source": [
    "def return_collection_fields(db, collection_name):\n",
    "    return pd.DataFrame([_['attributes'] for _ in db[collection_name].find()])"
   ]
  },
  {
   "cell_type": "code",
   "execution_count": 5,
   "metadata": {},
   "outputs": [],
   "source": [
    "mongo_client = MongoClient(host='35.156.12.147')\n",
    "db = mongo_client['raw_data']"
   ]
  },
  {
   "cell_type": "code",
   "execution_count": 6,
   "metadata": {},
   "outputs": [],
   "source": [
    "vilnius_stats_df = return_collection_fields(db, 'vilnius_stats')\n",
    "vilnius_stats_df = vilnius_stats_df.drop_duplicates(subset=['data'])\n",
    "vilnius_stats_df = vilnius_stats_df[['data', 'susirge', 'mire', 'dienos_susirg']]\n",
    "vilnius_stats_df['date'] = pd.to_datetime(vilnius_stats_df['data'], unit='ms').dt.round('D')\n",
    "vilnius_stats_df = vilnius_stats_df.drop('data', axis=1)"
   ]
  },
  {
   "cell_type": "code",
   "execution_count": 7,
   "metadata": {},
   "outputs": [],
   "source": [
    "personel_df = return_collection_fields(db, 'personel')\n",
    "# personel_df = personel[['Laiko_žymė', 'Įstaigos_pavadinimas', 'Medikų_kiekis__VISO_', 'Karantinuota__VISO']]\n",
    "personel_df['Laiko_žymė'] = pd.to_datetime(personel_df['Laiko_žymė'], unit='ms').dt.round('D')"
   ]
  },
  {
   "cell_type": "code",
   "execution_count": 8,
   "metadata": {},
   "outputs": [],
   "source": [
    "inventory_df = return_collection_fields(db, 'inventory')\n",
    "inventory_df['Laiko_žymė'] = pd.to_datetime(inventory_df['Laiko_žymė'], unit='ms').dt.round('D')"
   ]
  },
  {
   "cell_type": "code",
   "execution_count": 9,
   "metadata": {},
   "outputs": [],
   "source": [
    "personel_aggregated = personel_df\\\n",
    "    .groupby(['Laiko_žymė', 'Įstaigos_pavadinimas'])[personel_df.columns[3:-3]]\\\n",
    "    .min()\\\n",
    "    .reset_index()\\\n",
    "    .groupby('Laiko_žymė')[personel_df.columns[3:-3]]\\\n",
    "    .sum()\\\n",
    "    .reset_index()\\\n",
    "    .rename({'Laiko_žymė': 'date'}, axis=1)\n",
    "\n",
    "personel_aggregated['quarantined_pct'] = personel_aggregated['Karantinuota__VISO']/personel_aggregated['Medikų_kiekis__VISO_']\n",
    "personel_aggregated['medics_total'] = personel_aggregated[['Medikai_reanimatologai__VISO', 'Medikų_kiekis__VISO_', 'Apmokyti_medikai', 'Atsarga']].sum(axis=1)"
   ]
  },
  {
   "cell_type": "code",
   "execution_count": 10,
   "metadata": {},
   "outputs": [],
   "source": [
    "personel_aggregated.to_clipboard()"
   ]
  },
  {
   "cell_type": "code",
   "execution_count": 11,
   "metadata": {},
   "outputs": [],
   "source": [
    "inventory_aggregated = inventory_df\\\n",
    "    .groupby(['Laiko_žymė', 'Įstaigos_pavadinimas'])[inventory_df.columns[8:-3]]\\\n",
    "    .min()\\\n",
    "    .reset_index()\\\n",
    "    .groupby('Laiko_žymė')[inventory_df.columns[8:-3]]\\\n",
    "    .sum()\\\n",
    "    .reset_index()\\\n",
    "    .rename({'Laiko_žymė': 'date'}, axis=1)\n",
    "\n",
    "inventory_aggregated['beds_taken'] = inventory_aggregated['Užimtos_lovos__vnt_']/inventory_aggregated['Lovos_VISO__vnt_']"
   ]
  },
  {
   "cell_type": "code",
   "execution_count": 12,
   "metadata": {},
   "outputs": [],
   "source": [
    "df = vilnius_stats_df\\\n",
    "    .merge(personel_aggregated, on='date', how='left')\\\n",
    "    .merge(inventory_aggregated, on='date', how='left')"
   ]
  },
  {
   "cell_type": "code",
   "execution_count": 16,
   "metadata": {},
   "outputs": [],
   "source": [
    "df.to_clipboard()"
   ]
  },
  {
   "cell_type": "code",
   "execution_count": null,
   "metadata": {},
   "outputs": [],
   "source": []
  }
 ],
 "metadata": {
  "kernelspec": {
   "display_name": "Python 3",
   "language": "python",
   "name": "python3"
  },
  "language_info": {
   "codemirror_mode": {
    "name": "ipython",
    "version": 3
   },
   "file_extension": ".py",
   "mimetype": "text/x-python",
   "name": "python",
   "nbconvert_exporter": "python",
   "pygments_lexer": "ipython3",
   "version": "3.7.6"
  }
 },
 "nbformat": 4,
 "nbformat_minor": 4
}
